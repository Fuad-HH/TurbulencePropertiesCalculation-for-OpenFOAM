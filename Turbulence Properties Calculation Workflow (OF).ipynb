{
 "cells": [
  {
   "cell_type": "markdown",
   "id": "1ebfc2d5",
   "metadata": {},
   "source": [
    "# Notebook to Calculate Turbulence Properties for OpenFoam"
   ]
  },
  {
   "cell_type": "markdown",
   "id": "da64832d",
   "metadata": {},
   "source": [
    "In this notebook I will collect all the calculations have to be done to set up the **Initial and Boundary Conditions** for _OpenFOAM_."
   ]
  },
  {
   "cell_type": "markdown",
   "id": "80802776",
   "metadata": {},
   "source": [
    "These are mostly set up only for **Internal (Pipe) flow**."
   ]
  },
  {
   "cell_type": "markdown",
   "id": "81908e00",
   "metadata": {},
   "source": [
    "### 1. Pipe Dimensions and Given Properties of Flow\n",
    "\n",
    "**The properties are:**\\\n",
    "Pipe Diameter, _D(m)_ \\\n",
    "Reynolds Number, _Re_ \\\n",
    "Dynamic Viscosity, $\\mu$ (Pa.s) \\\n",
    "Density, $\\rho$ (kg/m^3) \\\n",
    "\n",
    "---\n",
    "Viscosity and desity for a nominal pressure and Temperature can be found from different sources. For Steam, [Spirax Sacro](https://www.spiraxsarco.com/resources-and-design-tools/steam-tables/superheated-steam-region) is a high fidelity source to get steam properties."
   ]
  },
  {
   "cell_type": "code",
   "execution_count": 1,
   "id": "73dab9d4",
   "metadata": {},
   "outputs": [],
   "source": [
    "D = 0.1 # hydraulic diameter\n",
    "Re = 1e7 # Re\n",
    "mu = 3.33393e-5 # from Spirax Sacro\n",
    "rho = 36.1221 # from Spirx Sacro"
   ]
  },
  {
   "cell_type": "markdown",
   "id": "22ef0966",
   "metadata": {},
   "source": [
    "Therefore the _free-stream velocity_ or _Reynolds Averaged Mean Velocity_, $U$ is calculated from: $Re = \\frac{\\rho UD}{\\mu}$ \n",
    "$$\\therefore U=\\frac{\\mu Re}{\\rho D}$$"
   ]
  },
  {
   "cell_type": "code",
   "execution_count": 2,
   "id": "6558dde7",
   "metadata": {},
   "outputs": [
    {
     "name": "stdout",
     "output_type": "stream",
     "text": [
      "The Free-Stream Velociy, U =  92.29612896260184\n",
      "Kinematic Viscosity nu =  9.229612896260184e-07\n"
     ]
    }
   ],
   "source": [
    "U = (mu*Re)/(rho*D)\n",
    "print(\"The Free-Stream Velociy, U = \", U)\n",
    "print(\"Kinematic Viscosity nu = \", mu/rho)"
   ]
  },
  {
   "cell_type": "markdown",
   "id": "1ea38b3c",
   "metadata": {},
   "source": [
    "### 2. Estimate of approximated turbulence parameters\n",
    "**Which are used to calculate $k, \\omega, \\epsilon$ etc.** \\\n",
    "Turbulence Intensity(fully developed, mean over area), $$I = 0.227Re^{-0.1}$$\n",
    "Turbulence Intensity(fully developed, axis) $$I = 0.055Re^{-0.0407}$$        \n",
    "Ref: [CFD Online Wiki for Turbulence Intesity](https://www.cfd-online.com/Wiki/Turbulence_intensity)\n",
    "\n",
    "Length Scale (mixing length), $$Tu_L(m) = 0.038D$$                                  \n",
    "Ref: [CFD-Online Wiki for Length Scale](https://www.cfd-online.com/Wiki/Turbulence_length_scale)"
   ]
  },
  {
   "cell_type": "code",
   "execution_count": 3,
   "id": "b03baccc",
   "metadata": {},
   "outputs": [
    {
     "name": "stdout",
     "output_type": "stream",
     "text": [
      "The Turbulence Intensity I =  4.529245454979357 %.\n",
      "\n",
      "The Length Scale, l =  0.0038 m.\n",
      "\n",
      "Flow Rate, Q =  26.18462498895828  kg/s\n"
     ]
    }
   ],
   "source": [
    "I = 0.227*Re**(-0.1)\n",
    "l = 0.038*D\n",
    "q = rho*U*3.14159265359*(D/2)**2\n",
    "\n",
    "print(\"The Turbulence Intensity I = \", I*100, \"%.\\n\")\n",
    "print(\"The Length Scale, l = \", l, \"m.\\n\")\n",
    "print(\"Flow Rate, Q = \", q, \" kg/s\")"
   ]
  },
  {
   "cell_type": "markdown",
   "id": "ac4a31ab",
   "metadata": {},
   "source": [
    "**The Turbulence Intesity Can Also be Calculated Using The Following Script (Roughness can be added)**\\\n",
    "Ref: https://www.mdpi.com/2311-5521/4/4/180"
   ]
  },
  {
   "cell_type": "code",
   "execution_count": 4,
   "id": "75591d8c",
   "metadata": {
    "hide_input": false,
    "scrolled": true
   },
   "outputs": [
    {
     "name": "stdout",
     "output_type": "stream",
     "text": [
      "Smooth pipe\n",
      "friction factor:\n",
      "[0.0083162]\n",
      "turbulence intensity:\n",
      "[0.04720843]\n"
     ]
    }
   ],
   "source": [
    "\"\"\"\n",
    "\n",
    "N.T.Basse 2019\n",
    "\n",
    "Based on paper:\n",
    "    Turbulence Intensity Scaling: A Fugue\n",
    "    https://www.mdpi.com/2311-5521/4/4/180\n",
    "\n",
    "\"\"\"\n",
    "\n",
    "import numpy as np\n",
    "from scipy.optimize import fsolve\n",
    "\n",
    "#smooth friction factor (Eq. 19 in paper)\n",
    "def smooth(x):\n",
    "    out = [np.power(x[0],-0.5)-1.930*np.log10(Re*np.sqrt(x[0]))+0.537]\n",
    "    return out\n",
    "\n",
    "#rough friction factor (Eq. 20 in paper)\n",
    "def rough(x):\n",
    "    out = [np.power(x[0],-0.5)+2*np.log10(k_s_norm/(2*3.7)+2.51/(Re*np.sqrt(x[0])))]          \n",
    "    return out\n",
    "\n",
    "#user supplies Reynolds number Re [dimensionless]\n",
    "Re=Re\n",
    "\n",
    "#user supplies pipe radius a [m]\n",
    "a=D/2\n",
    "\n",
    "#user supplies sand-grain roughness k_s [m]\n",
    "k_s=0.0\n",
    "\n",
    "#normalized sand-grain roughness is calculated [dimensionless]\n",
    "k_s_norm=k_s/a\n",
    "\n",
    "#calculate friction factor\n",
    "if k_s==0:\n",
    "    print('Smooth pipe')\n",
    "    ff = fsolve(smooth, 0.01)\n",
    "else:\n",
    "    print('Rough pipe')\n",
    "    ff = fsolve(rough,0.01)\n",
    "    \n",
    "print('friction factor:')    \n",
    "print(ff)   \n",
    "\n",
    "#calculate turbulence intensity (Eq. 29 in paper)\n",
    "TI=0.0276*np.log(ff)+0.1794\n",
    "    \n",
    "print('turbulence intensity:')\n",
    "print(TI)"
   ]
  },
  {
   "cell_type": "markdown",
   "id": "03e9aa08",
   "metadata": {},
   "source": [
    "### 3. Now Use These Parameters To Get The Other Turbulence Properties"
   ]
  },
  {
   "cell_type": "markdown",
   "id": "2d190461",
   "metadata": {},
   "source": [
    "[This website from CFD-online tools](https://www.cfd-online.com/Tools/turbulence.php) is very helpful to calculate these properties. Just select the [Turbulence variables (k, ε, ω) from turbulence intensity (Tu), length-scale (TuL) and freestream velocity (U∞)](https://www.cfd-online.com/Tools/turbulence.php#:~:text=Turbulence%20variables%20(k%2C%20%CE%B5%2C%20%CF%89)%20from%20turbulence%20intensity%20(Tu)%2C%20length%2Dscale%20(TuL)%20and%20freestream%20velocity%20(U%E2%88%9E)) and put the previously caltulated values there and press calculate."
   ]
  },
  {
   "cell_type": "markdown",
   "id": "1be17af2",
   "metadata": {},
   "source": [
    "**The website can be used from below.**"
   ]
  },
  {
   "cell_type": "code",
   "execution_count": 5,
   "id": "92a7c55c",
   "metadata": {},
   "outputs": [
    {
     "name": "stdout",
     "output_type": "stream",
     "text": [
      "Needed Parameters: \n",
      "\t Free-Stream Velocity:  92.29612896260184 \n",
      "\t Turbulence Intensity:  4.529245454979357 \n",
      "\t Length Scale:\t\t 0.0038 \n",
      "\t Kinematic Viscosity:  9.229612896260184e-07\n"
     ]
    }
   ],
   "source": [
    "print(\"Needed Parameters: \\n\\t Free-Stream Velocity: \", U,\"\\n\\t\",\"Turbulence Intensity: \", I*100,\"\\n\\t\",\"Length Scale:\\t\\t\", l, \"\\n\\t\", \"Kinematic Viscosity: \", mu/rho)"
   ]
  },
  {
   "cell_type": "code",
   "execution_count": 6,
   "id": "512c4b07",
   "metadata": {
    "scrolled": true,
    "slideshow": {
     "slide_type": "-"
    }
   },
   "outputs": [
    {
     "data": {
      "text/html": [
       "<iframe src=\"https://www.cfd-online.com/Tools/turbulence.php\" width=\"1000\" height=\"600\"></iframe>\n"
      ],
      "text/plain": [
       "<IPython.core.display.HTML object>"
      ]
     },
     "metadata": {},
     "output_type": "display_data"
    }
   ],
   "source": [
    "%%html\n",
    "<iframe src=\"https://www.cfd-online.com/Tools/turbulence.php\" width=\"1000\" height=\"600\"></iframe>"
   ]
  },
  {
   "cell_type": "markdown",
   "id": "6538736e",
   "metadata": {},
   "source": [
    "**Insert the values of $k, \\epsilon, \\omega$ below from the above website.**"
   ]
  },
  {
   "cell_type": "code",
   "execution_count": 7,
   "id": "288eeca6",
   "metadata": {},
   "outputs": [],
   "source": [
    "# Insert the nessessary parameters from above\n",
    "k = 26.21259070795487\n",
    "epsilon = 3178.511831293987\n",
    "omega = 1347.3219232302354"
   ]
  },
  {
   "cell_type": "markdown",
   "id": "fb41f713",
   "metadata": {},
   "source": [
    "### 4. Calculate $\\mu_t$ or `nut` of OF"
   ]
  },
  {
   "cell_type": "markdown",
   "id": "5ba9c161",
   "metadata": {},
   "source": [
    "Firstly, get $\\mu_t/\\mu$ from the above website using $k, \\omega$, or $\\epsilon$ got from previous step.\\\n",
    "_Note that, here $\\mu$ is [molecular dynamic viscosity](https://www.cfd-online.com/Wiki/Eddy_viscosity_ratio) or [Kinematic Viscosity](https://www.cfd-online.com/Forums/fluent/229919-difference-between-molecular-dynamic-viscosity.html) which is contradictory to common notation._ And `nut` in `0` directory is [νt\t=\tTurbulent viscosity at y+ [m2/s]](https://www.openfoam.com/documentation/guides/latest/doc/guide-bcs-wall-turbulence-nutWallFunction.html#:~:text=where-,%CE%BD,%5Bm2/s%5D,-%CE%BD) with similar unit as $\\nu$."
   ]
  },
  {
   "cell_type": "markdown",
   "id": "c6e0488f",
   "metadata": {},
   "source": [
    "[This cfd-online thread](https://www.cfd-online.com/Forums/openfoam/230490-initialization-nut.html) focuses on estimation of `nut`. It can be infered that `nut` as calculated at boundaries is preferable and value used in internalField is not important for steady-state analysis but crucial for transient analysis."
   ]
  },
  {
   "cell_type": "markdown",
   "id": "57800530",
   "metadata": {},
   "source": [
    "#### Ways of estimating `nut` for internalField"
   ]
  },
  {
   "cell_type": "markdown",
   "id": "2855e536",
   "metadata": {},
   "source": [
    "Calculate $$\\nu_t = (\\nu_t/\\nu)\\nu$$ \\\n",
    "or $$\\nu_t = \\frac{(\\nu_t/\\nu)\\mu}{\\rho}$$\n",
    "\n",
    "**OR using the following formula.**\n",
    "$$\\nu_t = \\rho C \\mu \\frac{k}{\\epsilon}$$"
   ]
  },
  {
   "cell_type": "code",
   "execution_count": 8,
   "id": "74cbce67",
   "metadata": {
    "scrolled": true
   },
   "outputs": [
    {
     "name": "stdout",
     "output_type": "stream",
     "text": [
      "nut for internalField using the 1st formula is  0.019455328571444587\n"
     ]
    }
   ],
   "source": [
    "# here the 1st formula is used\n",
    "\n",
    "# insert (nut/nu) or eddy viscosity ratio\n",
    "edvisRatio = 21079.24654058659 # from above website\n",
    "nut = edvisRatio*mu/rho\n",
    "print(\"nut for internalField using the 1st formula is \", nut)"
   ]
  },
  {
   "cell_type": "markdown",
   "id": "90207d06",
   "metadata": {},
   "source": [
    "## Optional: For Supersonic Flow\n",
    "Total Pressure / Stagnant Pressure Calculation for Supersonic Flow. The equations are from [here](https://www.grc.nasa.gov/www/BGH/isentrop.html)."
   ]
  },
  {
   "cell_type": "code",
   "execution_count": 9,
   "id": "cdbe1d01",
   "metadata": {},
   "outputs": [
    {
     "name": "stdout",
     "output_type": "stream",
     "text": [
      "Total Pressure:  13643151.107419318 \n",
      "Total Temperature:  875.4824589383526\n",
      "\n",
      "Mach Number = \t 0.12425259987216147 \n",
      "Sound Velocity (from Spirax Sacro) = \t 693.266 \n",
      "Sound Velocity (from above equation) =  742.8104446712715\n"
     ]
    }
   ],
   "source": [
    "# gamma = cp/cv\n",
    "cp = 2565.52\n",
    "cv = 1874.87\n",
    "c = 693.266 # from spirax sacro\n",
    "gamma = cp/cv\n",
    "\n",
    "Temp = 873\n",
    "RR = 8.314 #[J/mol.K]\n",
    "RR = 8.314/(18e-3) #[J/kg.K]\n",
    "p = 1.35e7\n",
    "\n",
    "M = U/np.sqrt(gamma*RR*Temp)\n",
    "p0 = p*(1 + ((gamma-1)/2)*M*M)**(gamma/(gamma-1))\n",
    "\n",
    "T0 = Temp*(1+ (gamma -1)*M*M/2)\n",
    "\n",
    "print(\"Total Pressure: \", p0, \"\\nTotal Temperature: \", T0)\n",
    "print(\"\\nMach Number = \\t\", M, \"\\nSound Velocity (from Spirax Sacro) = \\t\", c, \"\\nSound Velocity (from above equation) = \", U/M )"
   ]
  },
  {
   "cell_type": "markdown",
   "id": "57e982a8",
   "metadata": {},
   "source": [
    "# End"
   ]
  }
 ],
 "metadata": {
  "kernelspec": {
   "display_name": "Python 3 (ipykernel)",
   "language": "python",
   "name": "python3"
  },
  "language_info": {
   "codemirror_mode": {
    "name": "ipython",
    "version": 3
   },
   "file_extension": ".py",
   "mimetype": "text/x-python",
   "name": "python",
   "nbconvert_exporter": "python",
   "pygments_lexer": "ipython3",
   "version": "3.9.12"
  },
  "vscode": {
   "interpreter": {
    "hash": "201d9502371fe8bb41bf65d294062b7c23b7fb929f0bc2956f17057979f9f379"
   }
  }
 },
 "nbformat": 4,
 "nbformat_minor": 5
}
